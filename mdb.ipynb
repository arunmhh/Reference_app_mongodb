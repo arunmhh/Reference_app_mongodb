{
 "cells": [
  {
   "cell_type": "code",
   "execution_count": 1,
   "id": "e3868d7d",
   "metadata": {},
   "outputs": [
    {
     "name": "stdout",
     "output_type": "stream",
     "text": [
      "/opt/miniconda3/envs/bioinfo/bin/python\n"
     ]
    }
   ],
   "source": [
    "import sys\n",
    "print(sys.executable)"
   ]
  },
  {
   "cell_type": "code",
   "execution_count": null,
   "id": "2c4cbafa",
   "metadata": {},
   "outputs": [
    {
     "ename": "SyntaxError",
     "evalue": "f-string: unmatched '[' (3126011019.py, line 24)",
     "output_type": "error",
     "traceback": [
      "  \u001b[36mCell\u001b[39m\u001b[36m \u001b[39m\u001b[32mIn[2]\u001b[39m\u001b[32m, line 24\u001b[39m\n\u001b[31m    \u001b[39m\u001b[31mprint(f\"ID: { paper[\"_id\"]}, Name: {paper[\"name\"]} and author: {paper[\"author\"]} in {paper[\"year\"]}\")\u001b[39m\n                         ^\n\u001b[31mSyntaxError\u001b[39m\u001b[31m:\u001b[39m f-string: unmatched '['\n"
     ]
    }
   ],
   "source": [
    "from pymongo import MongoClient\n",
    "from bson import ObjectId\n",
    "from dotenv import load_dotenv\n",
    "import os\n",
    "\n",
    "load_dotenv()\n",
    "MONGO_URI = os.getenv(\"MONGO_URI\")\n",
    "client = MongoClient(MONGO_URI)\n",
    "db = client[\"paperref_manager\"]\n",
    "\n",
    "paper_collection = db[\"paper\"]\n",
    "print(paper_collection)\n",
    "\n",
    "\n",
    "\n",
    "\n",
    "def add_paper(name, author, year):\n",
    "    paper_collection.insert_one({\"name\": name, \"author\": author, \"year\": year})\n",
    "\n",
    "def list_paper():\n",
    "    print(\"\\n\")\n",
    "    print(\"*\" * 60)\n",
    "    for paper in paper_collection.find():\n",
    "        print(f\"ID: { paper['_id']}, Name: {paper['name']} and author: {paper['author']} in {paper['year']}\")\n",
    "    print(\"\\n\")\n",
    "    print(\"*\" * 60)\n",
    "def update_paper(paper_id, new_name, new_author, new_year):\n",
    "    paper_collection.update_one(\n",
    "        {\"_id\" : ObjectId(paper_id)},\n",
    "        {\"$set\": {\"name\": new_name, \"author\": new_author, \"year\": new_year}})\n",
    "\n",
    "def delete_paper(paper_id):\n",
    "    paper_collection.delete_one({\"_id\": ObjectId(paper_id)})\n",
    "\n",
    "def main():\n",
    "    while True:\n",
    "        print(\"\\n PaperRef_manager | choose an option\")\n",
    "        print(\"1. List all Paper references \")\n",
    "        print(\"2. Add Paper references \")\n",
    "        print(\"3. Update Paper references details \")\n",
    "        print(\"4. Delete Paper references \")\n",
    "        print(\"5. Exit the app \")\n",
    "        choice = input(\"Enter your choice: \")\n",
    "\n",
    "        if choice == \"1\":\n",
    "            list_paper()\n",
    "\n",
    "        elif choice == \"2\":\n",
    "            name = input(\"Enter the new paper title: \")\n",
    "            author = input(\"Enter the new author name: \")\n",
    "            year = input(\"Enter the new year: \")\n",
    "            add_paper(name, author, year)\n",
    "\n",
    "        elif choice == \"3\": \n",
    "            paper_id = input(\"Enter the paper ID to update: \")\n",
    "            author = input(\"Enter the new author name: \")\n",
    "            year = input(\"Enter the new year: \")\n",
    "            update_paper(paper_id, name, author,year)\n",
    "\n",
    "        elif choice == \"4\": \n",
    "            paper_id = input(\"Enter the paper ID to delete: \")\n",
    "            delete_paper(paper_id)\n",
    "\n",
    "        elif choice == \"5\": \n",
    "            break\n",
    "        else:\n",
    "            print(\"Invalid choice\")\n",
    "\n",
    "\n",
    "if __name__ == \"__main__\":\n",
    "    main()"
   ]
  }
 ],
 "metadata": {
  "kernelspec": {
   "display_name": "bioinfo",
   "language": "python",
   "name": "python3"
  },
  "language_info": {
   "codemirror_mode": {
    "name": "ipython",
    "version": 3
   },
   "file_extension": ".py",
   "mimetype": "text/x-python",
   "name": "python",
   "nbconvert_exporter": "python",
   "pygments_lexer": "ipython3",
   "version": "3.11.13"
  }
 },
 "nbformat": 4,
 "nbformat_minor": 5
}
